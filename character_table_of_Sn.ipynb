{
 "cells": [
  {
   "cell_type": "code",
   "execution_count": 1,
   "id": "245e9dd8",
   "metadata": {},
   "outputs": [],
   "source": [
    "import jax\n",
    "import jax.numpy as jnp\n",
    "import jax.nn as nn\n",
    "from functools import partial\n",
    "from itertools import product\n",
    "from math import factorial"
   ]
  },
  {
   "cell_type": "code",
   "execution_count": 52,
   "id": "f7c9345b",
   "metadata": {},
   "outputs": [],
   "source": [
    "# define number of letters to permute\n",
    "N = 5\n",
    "ORD = factorial(N)"
   ]
  },
  {
   "cell_type": "code",
   "execution_count": 53,
   "id": "88011b06",
   "metadata": {
    "scrolled": true
   },
   "outputs": [],
   "source": [
    "# find all partitions for given integer\n",
    "def get_partitions(n):\n",
    "    if n == 0:\n",
    "        yield jnp.array([], dtype=\"i4\")\n",
    "    if n < 0:\n",
    "        return\n",
    "    for p in get_partitions(n-1):\n",
    "        yield jnp.concatenate((p, jnp.array([1])))\n",
    "        l = len(p)\n",
    "        if l == 1 or (l > 1 and p[-1] < p[-2]):\n",
    "            yield p + nn.one_hot(l-1, l, dtype=\"i4\")\n",
    "            \n",
    "# translate partition into cycle type\n",
    "def get_cycle_type(p, l=None):\n",
    "    if not l:\n",
    "        l = max(p)\n",
    "    kvec = lambda lam: nn.one_hot(lam-1, l, dtype=\"i4\")\n",
    "    return jnp.sum(jnp.apply_along_axis(kvec, 0, p), axis=0)\n",
    "\n",
    "def get_all_cycle_types(n):\n",
    "    for p in get_partitions(n):\n",
    "        yield get_cycle_type(p)\n",
    "                \n",
    "# find all repartitions of a given partition\n",
    "def get_repartitions(p, k):\n",
    "    l = len(k)\n",
    "    def gp(lam):\n",
    "        # calculate cycle types for all repartitions of a given row length\n",
    "        return [get_cycle_type(mu, l) for mu in get_partitions(lam)]\n",
    "    # calculate all these cycle types for all rows\n",
    "    reparts = [gp(lam) for lam in p]\n",
    "    # calculate cartesian product of the sets of repartitions of rows to \n",
    "    # get the repartitions of p\n",
    "    reparts = jnp.array(list(product(*reparts)))\n",
    "    # calculate the circle types of the new repartitions\n",
    "    reparts_ks = jnp.sum(reparts, axis=1)\n",
    "    # accept only the repartitions with repart_k = k\n",
    "    mask = jnp.product(reparts_ks == k, axis=1, dtype=\"bool\")\n",
    "    reparts = reparts[mask]\n",
    "    # order along second axis of repartitions is reversed, but does not matter \n",
    "    # because of the product over j in (3.68) in the script\n",
    "    return reparts\n",
    "\n",
    "def psi(p, k):\n",
    "    # calculate entries of Psi matrix\n",
    "    res = jnp.array(0., dtype=\"f4\")\n",
    "    for r in get_repartitions(p, k):\n",
    "        k_factorial = jnp.array([factorial(k_i) for k_i in k])\n",
    "        r_factorial = jnp.array([[factorial(r_ij) for r_ij in r_j] for r_j in r])\n",
    "        res += jnp.product(k_factorial)/jnp.product(r_factorial)\n",
    "    return res"
   ]
  },
  {
   "cell_type": "code",
   "execution_count": 58,
   "id": "cf73d7cc",
   "metadata": {
    "scrolled": false
   },
   "outputs": [
    {
     "name": "stdout",
     "output_type": "stream",
     "text": [
      "Psi:\n",
      " [[120   0   0   0   0   0   0]\n",
      " [ 60   6   0   0   0   0   0]\n",
      " [ 30   6   2   0   0   0   0]\n",
      " [ 20   6   0   2   0   0   0]\n",
      " [ 10   4   2   1   1   0   0]\n",
      " [  5   3   1   2   0   1   0]\n",
      " [  1   1   1   1   1   1   1]] \n",
      "\n",
      "Sigma:\n",
      " [[0.00833333 0.         0.         0.         0.         0.\n",
      "  0.        ]\n",
      " [0.         0.08333334 0.         0.         0.         0.\n",
      "  0.        ]\n",
      " [0.         0.         0.125      0.         0.         0.\n",
      "  0.        ]\n",
      " [0.         0.         0.         0.16666667 0.         0.\n",
      "  0.        ]\n",
      " [0.         0.         0.         0.         0.16666667 0.\n",
      "  0.        ]\n",
      " [0.         0.         0.         0.         0.         0.25\n",
      "  0.        ]\n",
      " [0.         0.         0.         0.         0.         0.\n",
      "  0.2       ]] \n",
      "\n",
      "Psi * Sigma * Psi.T:\n",
      " [[120  60  30  20  10   5   1]\n",
      " [ 60  33  18  13   7   4   1]\n",
      " [ 30  18  11   8   5   3   1]\n",
      " [ 20  13   8   7   4   3   1]\n",
      " [ 10   7   5   4   3   2   1]\n",
      " [  5   4   3   3   2   2   1]\n",
      " [  1   1   1   1   1   1   1]] \n",
      "\n"
     ]
    }
   ],
   "source": [
    "Psi = jnp.array([[psi(p, k) for k in get_all_cycle_types(N)] for p in get_partitions(N)],\n",
    "                dtype=\"i4\")\n",
    "print(\"Psi:\\n\", Psi, \"\\n\")\n",
    "\n",
    "def ord_C(k):\n",
    "    # order of stabilizer\n",
    "    ord_stab = jnp.product(jnp.array([(i+1)**k_i * factorial(k_i) \n",
    "                                      for (i, k_i) in enumerate(k)]))\n",
    "    return ORD / ord_stab\n",
    "\n",
    "Sigma = jnp.diag(jnp.array([ord_C(k) / ORD for k in get_all_cycle_types(N)]))\n",
    "print(\"Sigma:\\n\", Sigma, \"\\n\")\n",
    "\n",
    "PSPT = (Psi @ Sigma @ Psi.T).astype(\"i1\")\n",
    "print(\"Psi * Sigma * Psi.T:\\n\", PSPT, \"\\n\")"
   ]
  },
  {
   "cell_type": "markdown",
   "id": "d1caa253",
   "metadata": {},
   "source": [
    "# How to determine K?\n",
    "\n",
    "We can see that\n",
    "$$ A_{ij} := [KK^T]_{ij} = \\sum_{k=j}^n K_{ik}K_{jk} $$\n",
    "\n",
    "The last column can be easily determined by calculating \n",
    "$$ K_{nn} = \\sqrt{A_{nn}}, \\quad K_{kn} = \\frac{A_{kn}}{K_{nn}} $$\n",
    "\n",
    "Then we can define a matrix\n",
    "$$ [B]_{ij} := K_{in}K_{jn} $$\n",
    "\n",
    "And construct the matrix\n",
    "$$ \\tilde{A} := A - B $$\n",
    "\n",
    "Which is now effectively a lower dimensional version of of our initial problem, \n",
    "so we can just begin all over again and solve for K recursively!"
   ]
  },
  {
   "cell_type": "code",
   "execution_count": 60,
   "id": "d90f34e9",
   "metadata": {},
   "outputs": [
    {
     "name": "stdout",
     "output_type": "stream",
     "text": [
      "K:\n",
      " [[1 4 5 6 5 4 1]\n",
      " [0 1 2 3 3 3 1]\n",
      " [0 0 1 1 2 2 1]\n",
      " [0 0 0 1 1 2 1]\n",
      " [0 0 0 0 1 1 1]\n",
      " [0 0 0 0 0 1 1]\n",
      " [0 0 0 0 0 0 1]] \n",
      "\n"
     ]
    }
   ],
   "source": [
    "K = jnp.zeros(shape=(len(PSPT), len(PSPT))).tolist()\n",
    "\n",
    "def fill_K_column(A, n):\n",
    "    if len(A) == 0:\n",
    "        return\n",
    "    K[n-1][n-1] = float(jnp.sqrt(A[n-1, n-1]))\n",
    "    for i in range(n):\n",
    "        K[i][n-1] = float(A[i, n-1]/K[n-1][n-1])\n",
    "    \n",
    "    K_arr = jnp.array(K)\n",
    "    B = jnp.fromfunction(lambda i, j: K_arr[i, n-1]*K_arr[j, n-1], \n",
    "                         shape=(n, n), dtype=\"i1\")\n",
    "    \n",
    "    A_tilde = (A - B)[:-1, :-1]\n",
    "    return fill_K_column(A_tilde, n-1)\n",
    "\n",
    "fill_K_column(PSPT, len(PSPT))\n",
    "K = jnp.array(K, dtype=\"i1\")\n",
    "print(\"K:\\n\", K, \"\\n\")"
   ]
  },
  {
   "cell_type": "code",
   "execution_count": 66,
   "id": "b2faf1fb",
   "metadata": {},
   "outputs": [
    {
     "name": "stdout",
     "output_type": "stream",
     "text": [
      "X:\n",
      " [[ 1 -1  1  1 -1 -1  1]\n",
      " [ 4 -2  0  1  1  0 -1]\n",
      " [ 5 -1  1 -1 -1  1  0]\n",
      " [ 6  0 -2  0  0  0  1]\n",
      " [ 5  1  1 -1  1 -1  0]\n",
      " [ 4  2  0  1 -1  0 -1]\n",
      " [ 1  1  1  1  1  1  1]] \n",
      "\n",
      "X * Sigma * X.T:\n",
      " [[1 0 0 0 0 0 0]\n",
      " [0 1 0 0 0 0 0]\n",
      " [0 0 1 0 0 0 0]\n",
      " [0 0 0 1 0 0 0]\n",
      " [0 0 0 0 1 0 0]\n",
      " [0 0 0 0 0 1 0]\n",
      " [0 0 0 0 0 0 1]]\n"
     ]
    }
   ],
   "source": [
    "X = (jnp.linalg.inv(K) @ Psi).astype(\"i1\")\n",
    "print(\"X:\\n\", X, \"\\n\")\n",
    "\n",
    "print(\"X * Sigma * X.T:\\n\", (X @ Sigma @ X.T).astype(\"i1\"))"
   ]
  }
 ],
 "metadata": {
  "kernelspec": {
   "display_name": "Python 3 (ipykernel)",
   "language": "python",
   "name": "python3"
  },
  "language_info": {
   "codemirror_mode": {
    "name": "ipython",
    "version": 3
   },
   "file_extension": ".py",
   "mimetype": "text/x-python",
   "name": "python",
   "nbconvert_exporter": "python",
   "pygments_lexer": "ipython3",
   "version": "3.7.12"
  }
 },
 "nbformat": 4,
 "nbformat_minor": 5
}

{
 "cells": [
  {
   "cell_type": "code",
   "execution_count": 1,
   "id": "245e9dd8",
   "metadata": {},
   "outputs": [],
   "source": [
    "import numpy as np\n",
    "from itertools import product"
   ]
  },
  {
   "cell_type": "code",
   "execution_count": 2,
   "id": "f7c9345b",
   "metadata": {},
   "outputs": [],
   "source": [
    "# define number of letters to permute\n",
    "N = 5\n",
    "factorial = np.math.factorial\n",
    "# number of elements in S_N\n",
    "ORD = factorial(N)\n",
    "# do you want to save your results in a file?\n",
    "SAVE = True"
   ]
  },
  {
   "cell_type": "code",
   "execution_count": 3,
   "id": "88011b06",
   "metadata": {
    "scrolled": true
   },
   "outputs": [],
   "source": [
    "# useful function for calculating cycle types from partitions\n",
    "# e.g.: one_hot(3, 5) -> [0, 0, 0, 1, 0]\n",
    "def one_hot(x, size):\n",
    "    z = np.zeros(size, dtype=\"i4\")\n",
    "    z[x] = 1\n",
    "    return z\n",
    "\n",
    "# find all partitions for given integer\n",
    "def get_partitions(n):\n",
    "    if n == 0:\n",
    "        yield np.array([], dtype=\"i4\")\n",
    "    if n < 0:\n",
    "        return\n",
    "    for p in get_partitions(n-1):\n",
    "        yield np.concatenate((p, np.array([1])))\n",
    "        l = len(p)\n",
    "        if l == 1 or (l > 1 and p[-1] < p[-2]):\n",
    "            yield p + one_hot(l-1, l)\n",
    "            \n",
    "# translate partition into cycle type\n",
    "def get_cycle_type(p, l=None):\n",
    "    if not l:\n",
    "        l = max(p)\n",
    "    # cycle type of one cycle\n",
    "    kvec = lambda lam: one_hot(lam-1, l)\n",
    "    # cycle types of all cycles in a list\n",
    "    ks = np.vectorize(kvec, signature=\"()->(n)\")(p)\n",
    "    # return sum of all cycle types\n",
    "    return np.sum(ks, axis=0)\n",
    "\n",
    "# get all possible cycle types for elements in S_n\n",
    "def get_all_cycle_types(n, l=None):\n",
    "    for p in get_partitions(n):\n",
    "        yield get_cycle_type(p, l)\n",
    "                \n",
    "# find all repartitions of a given partition\n",
    "def get_repartitions(p, k):\n",
    "    # cycle types of repartition should have the same length as input k\n",
    "    l = len(k)\n",
    "    # calculate all the cycle types of repartitions of each row\n",
    "    reparts = [get_all_cycle_types(lam, l) for lam in p]\n",
    "    # calculate cartesian product of the sets of repartitions of rows to \n",
    "    # get the repartitions of p\n",
    "    reparts = np.array(list(product(*reparts)))\n",
    "    # calculate the cycle types of the new repartitions\n",
    "    reparts_ks = np.sum(reparts, axis=1)\n",
    "    # accept only the repartitions with repart_k = k\n",
    "    mask = np.product(reparts_ks == k, axis=1, dtype=\"bool\")\n",
    "    reparts = reparts[mask]\n",
    "    # order along second axis of repartitions is reversed, but does not matter \n",
    "    # because of the product over j in (3.68) in the script\n",
    "    return reparts\n",
    "\n",
    "def psi(p, k):\n",
    "    # calculate entries of Psi matrix\n",
    "    res = np.array(0., dtype=np.float128)\n",
    "    for r in get_repartitions(p, k):\n",
    "        k_factorial = np.array([factorial(k_i) for k_i in k])\n",
    "        r_factorial = np.array([[factorial(r_ij) for r_ij in r_j] for r_j in r])\n",
    "        res += np.product(k_factorial)/np.product(r_factorial)\n",
    "    return res"
   ]
  },
  {
   "cell_type": "code",
   "execution_count": 4,
   "id": "cf73d7cc",
   "metadata": {
    "scrolled": false
   },
   "outputs": [
    {
     "name": "stdout",
     "output_type": "stream",
     "text": [
      "Psi:\n",
      " [[120   0   0   0   0   0   0]\n",
      " [ 60   6   0   0   0   0   0]\n",
      " [ 30   6   2   0   0   0   0]\n",
      " [ 20   6   0   2   0   0   0]\n",
      " [ 10   4   2   1   1   0   0]\n",
      " [  5   3   1   2   0   1   0]\n",
      " [  1   1   1   1   1   1   1]] \n",
      "\n",
      "Sigma:\n",
      " [[0.00833333 0.         0.         0.         0.         0.\n",
      "  0.        ]\n",
      " [0.         0.08333333 0.         0.         0.         0.\n",
      "  0.        ]\n",
      " [0.         0.         0.125      0.         0.         0.\n",
      "  0.        ]\n",
      " [0.         0.         0.         0.16666667 0.         0.\n",
      "  0.        ]\n",
      " [0.         0.         0.         0.         0.16666667 0.\n",
      "  0.        ]\n",
      " [0.         0.         0.         0.         0.         0.25\n",
      "  0.        ]\n",
      " [0.         0.         0.         0.         0.         0.\n",
      "  0.2       ]] \n",
      "\n",
      "Psi * Sigma * Psi.T:\n",
      " [[120  60  30  20  10   5   1]\n",
      " [ 60  33  18  13   7   4   1]\n",
      " [ 30  18  11   8   5   3   1]\n",
      " [ 20  13   8   7   4   3   1]\n",
      " [ 10   7   5   4   3   2   1]\n",
      " [  5   4   3   3   2   2   1]\n",
      " [  1   1   1   1   1   1   1]] \n",
      "\n"
     ]
    }
   ],
   "source": [
    "# build Psi matrix. The cycle types k need to be padded to length N\n",
    "Psi = np.around(np.array([[psi(p, np.pad(k, (0, N-len(k)))) \n",
    "                          for k in get_all_cycle_types(N)] \n",
    "                          for p in get_partitions(N)])).astype(np.uint64)\n",
    "print(\"Psi:\\n\", Psi, \"\\n\")\n",
    "\n",
    "# calculate order of conjugacy class labeled by cycle type k\n",
    "def ord_C(k):\n",
    "    # order of stabilizer\n",
    "    ord_stab = np.product(np.array([(i+1)**k_i * factorial(k_i) \n",
    "                                    for (i, k_i) in enumerate(k)]))\n",
    "    return ORD / ord_stab\n",
    "\n",
    "# build Sigma matrix from (3.52) in the script\n",
    "Sigma = np.diag(np.array([ord_C(k) / ORD for k in get_all_cycle_types(N)], \n",
    "                         dtype=np.float128))\n",
    "print(\"Sigma:\\n\", Sigma, \"\\n\")\n",
    "\n",
    "# calculate Psi * Sigma * Psi.T\n",
    "PSPT = np.around(Psi @ Sigma @ Psi.T).astype(np.uint64)\n",
    "print(\"Psi * Sigma * Psi.T:\\n\", PSPT, \"\\n\")"
   ]
  },
  {
   "cell_type": "markdown",
   "id": "d1caa253",
   "metadata": {},
   "source": [
    "# How to determine K?\n",
    "\n",
    "We can see that\n",
    "$$ A_{ij} := [KK^T]_{ij} = \\sum_{k=j}^n K_{ik}K_{jk} $$\n",
    "\n",
    "The last column can be easily determined by calculating \n",
    "$$ K_{nn} = \\sqrt{A_{nn}}, \\quad K_{kn} = \\frac{A_{kn}}{K_{nn}} $$\n",
    "\n",
    "Then we can define a matrix\n",
    "$$ [B]_{ij} := K_{in}K_{jn} $$\n",
    "\n",
    "And construct the matrix\n",
    "$$ \\tilde{A} := A - B $$\n",
    "\n",
    "Which is now effectively a lower dimensional version of of our initial problem, \n",
    "so we can just begin all over again and solve for K recursively!"
   ]
  },
  {
   "cell_type": "code",
   "execution_count": 5,
   "id": "d90f34e9",
   "metadata": {},
   "outputs": [
    {
     "name": "stdout",
     "output_type": "stream",
     "text": [
      "K:\n",
      " [[1 4 5 6 5 4 1]\n",
      " [0 1 2 3 3 3 1]\n",
      " [0 0 1 1 2 2 1]\n",
      " [0 0 0 1 1 2 1]\n",
      " [0 0 0 0 1 1 1]\n",
      " [0 0 0 0 0 1 1]\n",
      " [0 0 0 0 0 0 1]] \n",
      "\n"
     ]
    }
   ],
   "source": [
    "# initialize K with zeros\n",
    "K = np.zeros(shape=(len(PSPT), len(PSPT))).tolist()\n",
    "\n",
    "def fill_K_column(A, n):\n",
    "    if len(A) == 0:\n",
    "        return\n",
    "    # fill the n'th column of K, note that indices start at 0 here...\n",
    "    K[n-1][n-1] = float(np.sqrt(A[n-1, n-1]))\n",
    "    for i in range(n):\n",
    "        K[i][n-1] = float(A[i, n-1]/K[n-1][n-1])\n",
    "    \n",
    "    # build B matrix\n",
    "    K_arr = np.array(K)\n",
    "    B = np.fromfunction(lambda i, j: K_arr[i, n-1]*K_arr[j, n-1], \n",
    "                         shape=(n, n), dtype=\"i4\")\n",
    "    \n",
    "    # build A tilde and recurse\n",
    "    A_tilde = (A - B)[:-1, :-1]\n",
    "    return fill_K_column(A_tilde, n-1)\n",
    "\n",
    "# start of recursion\n",
    "fill_K_column(PSPT, len(PSPT))\n",
    "\n",
    "K = np.around(np.array(K)).astype(np.uint64)\n",
    "print(\"K:\\n\", K, \"\\n\")"
   ]
  },
  {
   "cell_type": "code",
   "execution_count": 6,
   "id": "b2faf1fb",
   "metadata": {
    "scrolled": true
   },
   "outputs": [
    {
     "name": "stdout",
     "output_type": "stream",
     "text": [
      "X:\n",
      " [[ 1 -1  1  1 -1 -1  1]\n",
      " [ 4 -2  0  1  1  0 -1]\n",
      " [ 5 -1  1 -1 -1  1  0]\n",
      " [ 6  0 -2  0  0  0  1]\n",
      " [ 5  1  1 -1  1 -1  0]\n",
      " [ 4  2  0  1 -1  0 -1]\n",
      " [ 1  1  1  1  1  1  1]] \n",
      "\n",
      "X * Sigma * X.T:\n",
      " [[1 0 0 0 0 0 0]\n",
      " [0 1 0 0 0 0 0]\n",
      " [0 0 1 0 0 0 0]\n",
      " [0 0 0 1 0 0 0]\n",
      " [0 0 0 0 1 0 0]\n",
      " [0 0 0 0 0 1 0]\n",
      " [0 0 0 0 0 0 1]] \n",
      "\n",
      "Is X * Sigma * X.T == I (after rounding to integers)?: True \n",
      "\n",
      "We calculated the character table succesfully!\n"
     ]
    }
   ],
   "source": [
    "X = np.around(np.linalg.inv(K) @ Psi).astype(np.int64)\n",
    "print(\"X:\\n\", X, \"\\n\")\n",
    "\n",
    "II = np.around(X @ Sigma @ X.T).astype(np.int64)\n",
    "success = not np.max(np.abs(II - np.identity(len(II))))\n",
    "print(\"X * Sigma * X.T:\\n\", II, \"\\n\")\n",
    "print(\"Is X * Sigma * X.T == I (after rounding to integers)?:\", success, \"\\n\")\n",
    "\n",
    "if success:\n",
    "    print(\"We calculated the character table succesfully!\")\n",
    "    if SAVE:\n",
    "            with open(\"character_table_of_S_\"+str(N)+\".npy\", \"wb\") as f:\n",
    "                np.save(f, X)\n",
    "else:\n",
    "    print(\"It seems like something went wrong :(\")"
   ]
  }
 ],
 "metadata": {
  "kernelspec": {
   "display_name": "Python 3 (ipykernel)",
   "language": "python",
   "name": "python3"
  },
  "language_info": {
   "codemirror_mode": {
    "name": "ipython",
    "version": 3
   },
   "file_extension": ".py",
   "mimetype": "text/x-python",
   "name": "python",
   "nbconvert_exporter": "python",
   "pygments_lexer": "ipython3",
   "version": "3.7.9"
  }
 },
 "nbformat": 4,
 "nbformat_minor": 5
}
